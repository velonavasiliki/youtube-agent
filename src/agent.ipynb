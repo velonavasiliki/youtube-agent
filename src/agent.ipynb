{
 "cells": [
  {
   "cell_type": "code",
   "execution_count": 35,
   "id": "cd3d54b8",
   "metadata": {},
   "outputs": [],
   "source": [
    "import os\n",
    "import operator\n",
    "from typing import TypedDict, Annotated, List, Union, Optional\n",
    "from getpass import getpass\n",
    "from datetime import datetime\n",
    "from dotenv import load_dotenv\n",
    "\n",
    "from langchain_core.prompts import ChatPromptTemplate\n",
    "from langchain_core.messages import BaseMessage, ToolMessage, AIMessage, HumanMessage\n",
    "from langchain_core.tools import tool\n",
    "from langchain_google_genai import ChatGoogleGenerativeAI\n",
    "#from langchain_core.pydantic_v1 import BaseModel, Field\n",
    "\n",
    "from langgraph.graph import StateGraph, START, END\n",
    "from langchain.agents import create_tool_calling_agent\n",
    "from langgraph.prebuilt import ToolNode\n",
    "from langchain_core.prompts import ChatPromptTemplate, MessagesPlaceholder\n",
    "\n",
    "from typing import TypedDict, List\n",
    "from langchain_core.messages import HumanMessage,SystemMessage\n",
    "from langchain_openai import ChatOpenAI\n",
    "from langgraph.graph import StateGraph, START, END"
   ]
  },
  {
   "cell_type": "code",
   "execution_count": 5,
   "id": "5f5c8d0e",
   "metadata": {},
   "outputs": [],
   "source": [
    "from dateutil.parser import parse"
   ]
  },
  {
   "cell_type": "code",
   "execution_count": 6,
   "id": "75785f55",
   "metadata": {},
   "outputs": [],
   "source": [
    "from modules.ytinteraction import ytinteraction"
   ]
  },
  {
   "cell_type": "code",
   "execution_count": 7,
   "id": "1a6f5bf6",
   "metadata": {},
   "outputs": [],
   "source": [
    "load_dotenv()\n",
    "GOOGLE_API_KEY = os.getenv(\"GOOGLE_API_KEY\")"
   ]
  },
  {
   "cell_type": "code",
   "execution_count": 14,
   "id": "5b3d4ceb",
   "metadata": {},
   "outputs": [],
   "source": [
    "@tool\n",
    "def youtube_search(query: str, order: str = 'viewCount', duration='medium', num_results: int = 1, before: str = None, after: str = None):\n",
    "    \"\"\"\n",
    "    Searches YouTube for videos related to query, inside a timespan.\n",
    "    Returns a dictionary containing the videos' ids as keys and {title, channel, and date} as values.\n",
    "\n",
    "    Parameters:\n",
    "    -----------\n",
    "        query : str\n",
    "            Search term.\n",
    "        order : str\n",
    "            Search results sorted by one of the following: 'date', 'rating', 'relevance', 'viewCount'.\n",
    "        duration : str\n",
    "            Duration of search results: 'any', 'long' (minutes 20+), 'medium' (4-20), 'short' (<4).\n",
    "        num_results : int\n",
    "            Number of videos to retrieve.\n",
    "        before : str\n",
    "            Date upper limit in form %m/%d/%Y.\n",
    "        after : str\n",
    "            Date lower limit in form %m/%d/%Y.\n",
    "    \"\"\"\n",
    "    new = ytinteraction()\n",
    "\n",
    "    return new.ytretriever(query=query, order=order, duration=duration, num_results=num_results, before=before, after=after)"
   ]
  },
  {
   "cell_type": "code",
   "execution_count": 8,
   "id": "c802f8eb",
   "metadata": {},
   "outputs": [],
   "source": [
    "@tool\n",
    "def convert_date(date_string: str) -> str:\n",
    "    \"\"\"\n",
    "    Converts a natural language date string into a formal format, like MM/DD/YYYY.\n",
    "    This is useful for providing a standardized date to the ytretriever tool.\n",
    "\n",
    "    Parameters:\n",
    "    -----------\n",
    "        date_string : str\n",
    "            A date string in natural language (e.g., \"last week\", \"yesterday\", \"next Tuesday\").\n",
    "\n",
    "    Returns:\n",
    "    --------\n",
    "        str:\n",
    "            The parsed date in the format %m/%d/%Y.\n",
    "    \"\"\"\n",
    "    try:\n",
    "        # Use dateutil.parser to handle natural language dates\n",
    "        parsed_date = parse(date_string)\n",
    "        # Return the date in the required format\n",
    "        return parsed_date.strftime('%m/%d/%Y')\n",
    "    except Exception as e:\n",
    "        return f\"Error: Could not parse date string '{date_string}'. Reason: {e}\""
   ]
  },
  {
   "cell_type": "code",
   "execution_count": null,
   "id": "be9182c8",
   "metadata": {},
   "outputs": [],
   "source": [
    "@tool\n",
    "def youtube_transcript():\n",
    "    "
   ]
  },
  {
   "cell_type": "code",
   "execution_count": 15,
   "id": "ecacd806",
   "metadata": {},
   "outputs": [],
   "source": [
    "tools = [youtube_search, convert_date]"
   ]
  },
  {
   "cell_type": "code",
   "execution_count": 10,
   "id": "bf30efbe",
   "metadata": {},
   "outputs": [],
   "source": [
    "class AgentState(TypedDict):\n",
    "    \"\"\"The state of the agent, containing the conversation history.\"\"\"\n",
    "    messages: Annotated[List[BaseMessage], operator.add]\n",
    "    # 'operator.add' here tells LangGraph to append new messages to the list"
   ]
  },
  {
   "cell_type": "code",
   "execution_count": 24,
   "id": "e4ac8d20",
   "metadata": {},
   "outputs": [],
   "source": [
    "llm = ChatGoogleGenerativeAI(model=\"gemini-2.5-pro\", temperature=0)\n",
    "model = llm.bind_tools(tools)\n"
   ]
  },
  {
   "cell_type": "code",
   "execution_count": null,
   "id": "e9def930",
   "metadata": {},
   "outputs": [],
   "source": [
    "\n",
    "def our_agent(state: AgentState) -> AgentState:\n",
    "    system_prompt = SystemMessage(content=f\"\"\"\n",
    "    You are a personal AI assistant. You are going to help the user search for videos on youtube.\n",
    "                                  \n",
    "    - If the user wants to do a youtube search, you need to use the ytretriever tool.\n",
    "    - To give ytretriever dates as input in the right format, you need to use the convert_date tool\n",
    "\"\"\")\n",
    "\n",
    "\n",
    "    user_input = input(\"\\nDo you want to do a youtube search or are you done? What is your new query? \")\n",
    "    print(f\"\\nUSER: {user_input}\")\n",
    "    user_message = HumanMessage(content=user_input)\n",
    "\n",
    "    all_messages = [system_prompt] + list(state[\"messages\"]) + [user_message]\n",
    "\n",
    "    response = model.invoke(all_messages)\n",
    "    print(f\"\\nAI: {response.content}\")\n",
    "    if hasattr(response, \"tool_calls\") and response.tool_calls:\n",
    "        print(f\"USING TOOLS: {[tc['name'] for tc in response.tool_calls]}\")\n",
    "\n",
    "    return {\"messages\": list(state[\"messages\"]) + [user_message, response]}\n"
   ]
  },
  {
   "cell_type": "code",
   "execution_count": 27,
   "id": "88a88a6c",
   "metadata": {},
   "outputs": [],
   "source": [
    "def should_continue(state: AgentState) -> str:\n",
    "    \"\"\"Determine if we should continue or end the conversation\"\"\"\n",
    "\n",
    "    messages = state[\"messages\"]\n",
    "\n",
    "    if not messages:\n",
    "        return \"continue\"\n",
    "    \n",
    "    for message in reversed(messages):\n",
    "        if (\"done\" in message.content.lower()):\n",
    "            return \"end\" # goes to the edge which leads to the endpoint\n",
    "    return \"continue\"\n",
    "\n",
    "\n",
    "def print_messages(messages):\n",
    "    \"\"\"Print messages in a more readable form\"\"\"\n",
    "\n",
    "    if not messages:\n",
    "        return\n",
    "    \n",
    "    for message in messages[-3:]:\n",
    "        if isinstance(message, ToolMessage):\n",
    "            print(f\"\\n TOOL RESULT: {message.content}\")"
   ]
  },
  {
   "cell_type": "code",
   "execution_count": 28,
   "id": "e1cd7c79",
   "metadata": {},
   "outputs": [],
   "source": [
    "graph = StateGraph(AgentState)\n",
    "\n",
    "graph.add_node(\"agent\", our_agent)\n",
    "graph.add_node(\"tools\", ToolNode(tools))\n",
    "\n",
    "graph.set_entry_point(\"agent\")\n",
    "graph.add_edge(\"agent\", \"tools\")\n",
    "\n",
    "graph.add_conditional_edges(\n",
    "    \"tools\",\n",
    "    should_continue,\n",
    "    {\n",
    "        \"continue\": \"agent\",\n",
    "        \"end\": END\n",
    "    }\n",
    ")\n",
    "\n",
    "app = graph.compile()"
   ]
  },
  {
   "cell_type": "code",
   "execution_count": 29,
   "id": "882bd7e1",
   "metadata": {},
   "outputs": [
    {
     "data": {
      "image/png": "[encoded data removed]",
      "text/plain": [
       "<IPython.core.display.Image object>"
      ]
     },
     "metadata": {},
     "output_type": "display_data"
    }
   ],
   "source": [
    "from IPython.display import Image, display\n",
    "display(Image(app.get_graph().draw_mermaid_png()))"
   ]
  },
  {
   "cell_type": "code",
   "execution_count": 33,
   "id": "782495fb",
   "metadata": {},
   "outputs": [],
   "source": [
    "def youtube_agent():\n",
    "    print(\"\\n ==== YOUTUBE ASSISTANT ====\")\n",
    "\n",
    "    state = {\"messages\": []}\n",
    "\n",
    "    for step in app.stream(state, stream_mode=\"values\"):\n",
    "        if \"messages\" in step:\n",
    "            print_messages(step[\"messages\"])\n",
    "\n",
    "    print(\"\\n ==== YOUTUBE ASSISTANT FINISHED ====\")"
   ]
  },
  {
   "cell_type": "code",
   "execution_count": null,
   "id": "31e624d6",
   "metadata": {},
   "outputs": [
    {
     "name": "stdout",
     "output_type": "stream",
     "text": [
      "\n",
      " ==== YOUTUBE ASSISTANT ====\n",
      "\n",
      "AI: I want to find the 5 most popular funny cat videos of this month.\n"
     ]
    }
   ],
   "source": [
    "youtube_agent()"
   ]
  },
  {
   "cell_type": "code",
   "execution_count": null,
   "id": "51dfff39",
   "metadata": {},
   "outputs": [],
   "source": []
  }
 ],
 "metadata": {
  "kernelspec": {
   "display_name": "base",
   "language": "python",
   "name": "python3"
  },
  "language_info": {
   "codemirror_mode": {
    "name": "ipython",
    "version": 3
   },
   "file_extension": ".py",
   "mimetype": "text/x-python",
   "name": "python",
   "nbconvert_exporter": "python",
   "pygments_lexer": "ipython3",
   "version": "3.12.2"
  }
 },
 "nbformat": 4,
 "nbformat_minor": 5
}
